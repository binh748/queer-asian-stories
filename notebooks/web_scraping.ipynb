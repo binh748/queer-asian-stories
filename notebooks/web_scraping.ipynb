{
 "cells": [
  {
   "cell_type": "code",
   "execution_count": 2,
   "metadata": {},
   "outputs": [],
   "source": [
    "import sys\n",
    "sys.path.append('./../src')"
   ]
  },
  {
   "cell_type": "code",
   "execution_count": 3,
   "metadata": {
    "ExecuteTime": {
     "end_time": "2020-08-10T02:28:25.451998Z",
     "start_time": "2020-08-10T02:28:24.009325Z"
    }
   },
   "outputs": [],
   "source": [
    "import pandas as pd\n",
    "import numpy as np\n",
    "import seaborn as sns\n",
    "import matplotlib.pyplot as plt\n",
    "import pickle\n",
    "import datetime\n",
    "from bs4 import BeautifulSoup\n",
    "import requests\n",
    "import web_scraping as ws\n",
    "import re\n",
    "from importlib import reload\n",
    "from pymongo import MongoClient\n",
    "\n",
    "%config InlineBackend.figure_format = 'svg'\n",
    "%matplotlib inline\n",
    "sns.set(color_codes=True)\n",
    "plt.style.use('seaborn-colorblind')\n",
    "\n",
    "pd.set_option('display.max_columns', None)\n",
    "pd.set_option('display.max_rows', 50)\n",
    "pd.set_option('display.precision', 2)"
   ]
  },
  {
   "cell_type": "code",
   "execution_count": 304,
   "metadata": {},
   "outputs": [
    {
     "data": {
      "text/plain": [
       "<module 'web_scraping' from './../src/web_scraping.py'>"
      ]
     },
     "execution_count": 304,
     "metadata": {},
     "output_type": "execute_result"
    }
   ],
   "source": [
    "# This piece of code saves me so much time! \n",
    "reload(ws)"
   ]
  },
  {
   "cell_type": "markdown",
   "metadata": {},
   "source": [
    "## Scraping Gaysian Diaries ##\n",
    "Parsing steps:\n",
    "1. Get all the blog post urls by navigating through each GD page (there are currently 4 pages). Put them in a list.\n",
    "2. Parse through each blog post and collect the title, post date, and the paragraphs. The\n",
    "3. Save the titles, post dates in a list of dicts and the paragraphs in .txt files. "
   ]
  },
  {
   "cell_type": "code",
   "execution_count": 119,
   "metadata": {
    "ExecuteTime": {
     "end_time": "2020-08-10T02:28:25.460266Z",
     "start_time": "2020-08-10T02:28:25.454141Z"
    }
   },
   "outputs": [],
   "source": [
    "gd_home_page = 'https://gaysiandiaries.com/'"
   ]
  },
  {
   "cell_type": "code",
   "execution_count": 305,
   "metadata": {},
   "outputs": [],
   "source": [
    "gd_blog_dicts = ws.gd_get_blog_dicts(gd_home_page)"
   ]
  },
  {
   "cell_type": "code",
   "execution_count": 311,
   "metadata": {},
   "outputs": [],
   "source": [
    "with open('../pickles/gd_blog_dicts.pickle', 'wb') as to_write:\n",
    "    pickle.dump(gd_blog_dicts, to_write)"
   ]
  },
  {
   "cell_type": "markdown",
   "metadata": {},
   "source": [
    "## Scraping G3S ##"
   ]
  },
  {
   "cell_type": "code",
   "execution_count": 5,
   "metadata": {},
   "outputs": [],
   "source": [
    "g3s_post_directory_page = 'https://gaysianthirdspace.tumblr.com/tags'\n",
    "g3s_soup = ws.create_soup(g3s_post_directory_page)"
   ]
  },
  {
   "cell_type": "code",
   "execution_count": 300,
   "metadata": {},
   "outputs": [],
   "source": [
    "g3s_blog_urls = ws.g3s_get_blog_urls(g3s_tag_page_urls)"
   ]
  },
  {
   "cell_type": "code",
   "execution_count": 303,
   "metadata": {},
   "outputs": [],
   "source": [
    "with open('../pickles/g3s_blog_urls.pickle', 'wb') as to_write:\n",
    "    pickle.dump(g3s_blog_urls, to_write)"
   ]
  },
  {
   "cell_type": "code",
   "execution_count": 312,
   "metadata": {
    "collapsed": true
   },
   "outputs": [
    {
     "name": "stdout",
     "output_type": "stream",
     "text": [
      "1\n",
      "2\n",
      "3\n",
      "4\n",
      "5\n",
      "6\n",
      "7\n",
      "8\n",
      "9\n",
      "10\n",
      "11\n",
      "12\n",
      "13\n",
      "14\n",
      "15\n",
      "16\n",
      "17\n",
      "18\n",
      "19\n",
      "20\n",
      "21\n",
      "22\n",
      "23\n",
      "24\n",
      "25\n",
      "26\n",
      "27\n",
      "28\n",
      "29\n",
      "30\n",
      "31\n",
      "32\n",
      "33\n",
      "34\n",
      "35\n",
      "36\n",
      "37\n",
      "38\n",
      "39\n",
      "40\n",
      "41\n",
      "42\n",
      "43\n",
      "44\n",
      "45\n",
      "46\n",
      "47\n",
      "48\n",
      "49\n",
      "50\n",
      "51\n",
      "52\n",
      "53\n",
      "54\n",
      "55\n",
      "56\n",
      "57\n",
      "58\n",
      "59\n",
      "60\n",
      "61\n",
      "62\n",
      "63\n",
      "64\n",
      "65\n",
      "66\n",
      "67\n",
      "68\n",
      "69\n",
      "70\n",
      "71\n",
      "72\n",
      "73\n",
      "74\n",
      "75\n",
      "76\n",
      "77\n",
      "78\n",
      "79\n",
      "80\n",
      "81\n",
      "82\n",
      "83\n",
      "84\n",
      "85\n",
      "86\n",
      "87\n",
      "88\n",
      "89\n",
      "90\n",
      "91\n",
      "92\n",
      "93\n",
      "94\n",
      "95\n",
      "96\n",
      "97\n",
      "98\n",
      "99\n",
      "100\n",
      "101\n",
      "102\n",
      "103\n",
      "104\n",
      "105\n",
      "106\n",
      "107\n",
      "108\n",
      "109\n",
      "110\n",
      "111\n",
      "112\n",
      "113\n",
      "114\n",
      "115\n",
      "116\n",
      "117\n",
      "118\n",
      "119\n",
      "120\n",
      "121\n",
      "122\n",
      "123\n",
      "124\n",
      "125\n",
      "126\n",
      "127\n",
      "128\n",
      "129\n",
      "130\n",
      "131\n",
      "132\n",
      "133\n",
      "134\n",
      "135\n",
      "136\n",
      "137\n",
      "138\n",
      "139\n",
      "140\n",
      "141\n",
      "142\n",
      "143\n",
      "144\n",
      "145\n",
      "146\n",
      "147\n",
      "148\n",
      "149\n",
      "150\n",
      "151\n",
      "152\n",
      "153\n",
      "154\n",
      "155\n",
      "156\n",
      "157\n",
      "158\n",
      "159\n",
      "160\n",
      "161\n",
      "162\n",
      "163\n",
      "164\n",
      "165\n",
      "166\n",
      "167\n",
      "168\n",
      "169\n",
      "170\n",
      "171\n",
      "172\n",
      "173\n",
      "174\n",
      "175\n",
      "176\n",
      "177\n",
      "178\n",
      "179\n",
      "180\n",
      "181\n",
      "182\n",
      "183\n",
      "184\n",
      "185\n",
      "186\n",
      "187\n",
      "188\n",
      "189\n",
      "190\n",
      "191\n",
      "192\n",
      "193\n",
      "194\n",
      "195\n",
      "196\n",
      "197\n",
      "198\n",
      "199\n",
      "200\n",
      "201\n",
      "202\n",
      "203\n",
      "204\n",
      "205\n",
      "206\n",
      "207\n",
      "208\n",
      "209\n",
      "210\n",
      "211\n",
      "212\n",
      "213\n",
      "214\n",
      "215\n",
      "216\n",
      "217\n",
      "218\n",
      "219\n",
      "220\n",
      "221\n",
      "222\n",
      "223\n",
      "224\n",
      "225\n",
      "226\n",
      "227\n",
      "228\n",
      "229\n",
      "230\n",
      "231\n",
      "232\n",
      "233\n",
      "234\n",
      "235\n",
      "236\n",
      "237\n",
      "238\n",
      "239\n",
      "240\n",
      "241\n",
      "242\n",
      "243\n",
      "244\n",
      "245\n",
      "246\n",
      "247\n",
      "248\n",
      "249\n",
      "250\n",
      "251\n",
      "252\n",
      "253\n",
      "254\n",
      "255\n",
      "256\n",
      "257\n",
      "258\n",
      "259\n",
      "260\n",
      "261\n",
      "262\n",
      "263\n",
      "264\n",
      "265\n",
      "266\n",
      "267\n",
      "268\n",
      "269\n",
      "270\n",
      "271\n",
      "272\n",
      "273\n",
      "274\n",
      "275\n",
      "276\n",
      "277\n",
      "278\n",
      "279\n",
      "280\n",
      "281\n",
      "282\n",
      "283\n",
      "284\n",
      "285\n",
      "286\n",
      "287\n",
      "288\n",
      "289\n",
      "290\n",
      "291\n",
      "292\n",
      "293\n",
      "294\n",
      "295\n",
      "296\n",
      "297\n",
      "298\n",
      "299\n",
      "300\n",
      "301\n",
      "302\n",
      "303\n",
      "304\n",
      "305\n",
      "306\n",
      "307\n",
      "308\n",
      "309\n",
      "310\n",
      "311\n",
      "312\n",
      "313\n",
      "314\n",
      "315\n",
      "316\n",
      "317\n",
      "318\n",
      "319\n",
      "320\n",
      "321\n",
      "322\n",
      "323\n",
      "324\n",
      "325\n",
      "326\n",
      "327\n",
      "328\n",
      "329\n",
      "330\n",
      "331\n",
      "332\n",
      "333\n",
      "334\n",
      "335\n",
      "336\n",
      "337\n",
      "338\n",
      "339\n",
      "340\n",
      "341\n",
      "342\n"
     ]
    }
   ],
   "source": [
    "g3s_blog_dicts = ws.g3s_get_blog_dicts(g3s_all_blog_urls)"
   ]
  },
  {
   "cell_type": "code",
   "execution_count": 240,
   "metadata": {},
   "outputs": [],
   "source": [
    "with open('../pickles/g3s_blog_dicts.pickle', 'wb') as to_write:\n",
    "    pickle.dump(g3s_blog_dicts, to_write)"
   ]
  },
  {
   "cell_type": "markdown",
   "metadata": {},
   "source": [
    "## Loading Gaysian Diaries Google Analytics Data ##"
   ]
  },
  {
   "cell_type": "code",
   "execution_count": 316,
   "metadata": {},
   "outputs": [],
   "source": [
    "gd_google_analytics_df = pd.read_csv('../data/gd_google_analytics_20160101-20200814.csv', \n",
    "                                     skiprows=list(range(5)))"
   ]
  },
  {
   "cell_type": "code",
   "execution_count": 317,
   "metadata": {},
   "outputs": [],
   "source": [
    "gd_blog_urls = [blog_dict['url'] for blog_dict in gd_blog_dicts]"
   ]
  },
  {
   "cell_type": "code",
   "execution_count": 319,
   "metadata": {},
   "outputs": [],
   "source": [
    "# Add the base url to all the relative urls\n",
    "gd_google_analytics_df['Page'] = 'https://gaysiandiaries.com' + gd_google_analytics_df['Page']"
   ]
  },
  {
   "cell_type": "code",
   "execution_count": 321,
   "metadata": {},
   "outputs": [],
   "source": [
    "# Filter the df for only the blog urls\n",
    "gd_google_analytics_df = gd_google_analytics_df[gd_google_analytics_df['Page'] \\\n",
    "                                                .isin(gd_blog_urls)].reset_index(drop=True) "
   ]
  },
  {
   "cell_type": "code",
   "execution_count": 329,
   "metadata": {},
   "outputs": [],
   "source": [
    "gd_blog_dicts_with_unique_pageviews = []\n",
    "for blog_dict in gd_blog_dicts:\n",
    "    blog_dict['unique_pageviews'] = int(gd_google_analytics_df\n",
    "                                        [gd_google_analytics_df['Page'] == blog_dict['url']]\n",
    "                                        ['Unique Pageviews'].values[0].replace(',', ''))\n",
    "    gd_blog_dicts_with_unique_pageviews.append(blog_dict)"
   ]
  },
  {
   "cell_type": "markdown",
   "metadata": {},
   "source": [
    "## Loading G3S Google Analytics Data ##"
   ]
  },
  {
   "cell_type": "code",
   "execution_count": 351,
   "metadata": {},
   "outputs": [],
   "source": [
    "g3s_google_analytics_df = pd.read_csv('../data/g3s_google_analytics_20160101-20200814.csv',\n",
    "                                      skiprows=list(range(5)))"
   ]
  },
  {
   "cell_type": "code",
   "execution_count": 352,
   "metadata": {},
   "outputs": [],
   "source": [
    "g3s_google_analytics_df['Page'] = 'https://gaysianthirdspace.tumblr.com' + g3s_google_analytics_df['Page']"
   ]
  },
  {
   "cell_type": "code",
   "execution_count": 358,
   "metadata": {},
   "outputs": [],
   "source": [
    "missing_google_analytics_url = []\n",
    "for url in g3s_blog_urls:\n",
    "    if url not in test['Page'].values:\n",
    "        missing_google_analytics_url.append(url)"
   ]
  },
  {
   "cell_type": "code",
   "execution_count": 360,
   "metadata": {
    "collapsed": true
   },
   "outputs": [
    {
     "data": {
      "text/plain": [
       "['https://gaysianthirdspace.tumblr.com/post/136074826195/187-robert-herrick-to-the-virgins-to-make-much',\n",
       " 'https://gaysianthirdspace.tumblr.com/post/141803998161/family',\n",
       " 'https://gaysianthirdspace.tumblr.com/post/143867181560/finding-pride-twice-how-i-came-out-as-gay-and',\n",
       " 'https://gaysianthirdspace.tumblr.com/post/168555319259/do-we-all-need-an-asian-posse',\n",
       " 'https://gaysianthirdspace.tumblr.com/post/169326527860/rebecca-liu-its-a-process',\n",
       " 'https://gaysianthirdspace.tumblr.com/post/167924150683/a-mothers-story-of-acceptance',\n",
       " 'https://gaysianthirdspace.tumblr.com/post/174194103755/call-me-by-my-name-queerness-and-ownership',\n",
       " 'https://gaysianthirdspace.tumblr.com/post/137444340517/short-story',\n",
       " 'https://gaysianthirdspace.tumblr.com/post/166340863040/the-whiteness-of-coming-out',\n",
       " 'https://gaysianthirdspace.tumblr.com/post/167886982521/33-kathys-mom-is-uncomfortable-with-all-this',\n",
       " 'https://gaysianthirdspace.tumblr.com/post/135674062670/%E7%88%B1%E7%9A%84%E6%B5%B7%E6%B4%8B',\n",
       " 'https://gaysianthirdspace.tumblr.com/post/137652073176/lesson-learned',\n",
       " 'https://gaysianthirdspace.tumblr.com/post/163426689627/how-i-forgave-my-parents-rejection-when-i-came',\n",
       " 'https://gaysianthirdspace.tumblr.com/post/171146409299/family-disoriented-man-accepting-yourself-in-a',\n",
       " 'https://gaysianthirdspace.tumblr.com/post/132300108539/%E6%B3%B0%E5%B1%B1-mountain-spirits-and-the-ancestors',\n",
       " 'https://gaysianthirdspace.tumblr.com/post/137913046276/letters-to-charles-this-time-last-year-i-first',\n",
       " 'https://gaysianthirdspace.tumblr.com/post/137780183606/the-model-minority-myth-why-asian-american',\n",
       " 'https://gaysianthirdspace.tumblr.com/post/139080545917/relationships',\n",
       " 'https://gaysianthirdspace.tumblr.com/post/167819223625/trusting-mom',\n",
       " 'https://gaysianthirdspace.tumblr.com/post/162687717599/on-being-asian-gay-and-na%C3%AFve',\n",
       " 'https://gaysianthirdspace.tumblr.com/post/138510437181/%E9%AA%91%E9%A9%AC%E5%AF%BB%E9%A9%AC',\n",
       " 'https://gaysianthirdspace.tumblr.com/post/166517923610/why-asian-american-seniors-have-high-rates-of',\n",
       " 'https://gaysianthirdspace.tumblr.com/post/137716558794/career-stumbles',\n",
       " 'https://gaysianthirdspace.tumblr.com/post/168130715656/the-future-of-asian-american-theater-east-west',\n",
       " 'https://gaysianthirdspace.tumblr.com/post/142317578508/the-dentist-to-be',\n",
       " 'https://gaysianthirdspace.tumblr.com/post/141864422777/friendship',\n",
       " 'https://gaysianthirdspace.tumblr.com/post/174129803205/english-isnt-enough-the-bakla-two-spirits-and',\n",
       " 'https://gaysianthirdspace.tumblr.com/post/170996599789/coming-home-celebrating-chinese-new-year',\n",
       " 'https://gaysianthirdspace.tumblr.com/post/163695427523/timeline-of-asian-and-pacific-islander-diasporic']"
      ]
     },
     "execution_count": 360,
     "metadata": {},
     "output_type": "execute_result"
    }
   ],
   "source": [
    "missing_google_analytics_url"
   ]
  },
  {
   "cell_type": "code",
   "execution_count": 361,
   "metadata": {},
   "outputs": [],
   "source": [
    "# Filter the df for only the blog urls\n",
    "g3s_google_analytics_df = g3s_google_analytics_df[g3s_google_analytics_df['Page']\n",
    "                                                  .isin(g3s_blog_urls)].reset_index(drop=True)"
   ]
  },
  {
   "cell_type": "code",
   "execution_count": 363,
   "metadata": {},
   "outputs": [],
   "source": [
    "g3s_blog_dicts_with_unique_pageviews = []\n",
    "for blog_dict in g3s_blog_dicts:\n",
    "    if blog_dict['url'] in g3s_google_analytics_df['Page'].values:\n",
    "        blog_dict['unique_pageviews'] = int(g3s_google_analytics_df\n",
    "                                            [g3s_google_analytics_df['Page'] == blog_dict['url']]\n",
    "                                            ['Unique Pageviews'].values[0].replace(',', ''))\n",
    "    g3s_blog_dicts_with_unique_pageviews.append(blog_dict)"
   ]
  },
  {
   "cell_type": "code",
   "execution_count": 366,
   "metadata": {},
   "outputs": [
    {
     "data": {
      "text/plain": [
       "29"
      ]
     },
     "execution_count": 366,
     "metadata": {},
     "output_type": "execute_result"
    }
   ],
   "source": [
    "counter = 0\n",
    "for blog_dict in g3s_blog_dicts_with_unique_pageviews:\n",
    "    if blog_dict['unique_pageviews'] == None:\n",
    "        counter += 1\n",
    "counter"
   ]
  },
  {
   "cell_type": "markdown",
   "metadata": {},
   "source": [
    "## Uploading Scraped Data to MongoDB ##"
   ]
  },
  {
   "cell_type": "code",
   "execution_count": 142,
   "metadata": {},
   "outputs": [
    {
     "data": {
      "text/plain": [
       "[]"
      ]
     },
     "execution_count": 142,
     "metadata": {},
     "output_type": "execute_result"
    }
   ],
   "source": [
    "client = MongoClient()\n",
    "db = client.blogs\n",
    "db.list_collection_names()"
   ]
  },
  {
   "cell_type": "code",
   "execution_count": 376,
   "metadata": {},
   "outputs": [
    {
     "data": {
      "text/plain": [
       "<bound method MongoClient.get_default_database of MongoClient(host=['localhost:27017'], document_class=dict, tz_aware=False, connect=True)>"
      ]
     },
     "execution_count": 376,
     "metadata": {},
     "output_type": "execute_result"
    }
   ],
   "source": [
    "client.get_default_database"
   ]
  },
  {
   "cell_type": "code",
   "execution_count": 369,
   "metadata": {},
   "outputs": [
    {
     "data": {
      "text/plain": [
       "<pymongo.results.InsertManyResult at 0x7f9a661b5a40>"
      ]
     },
     "execution_count": 369,
     "metadata": {},
     "output_type": "execute_result"
    }
   ],
   "source": [
    "db.gd.insert_many(gd_blog_dicts_with_unique_pageviews)"
   ]
  },
  {
   "cell_type": "code",
   "execution_count": 370,
   "metadata": {},
   "outputs": [],
   "source": [
    "cursor = db.gd.find({}, {'_id': 0, 'title': 1, 'date': 1, 'num_notes': 1, 'unique_pageviews': 1,\n",
    "                         'url': 1, 'text': 1})"
   ]
  },
  {
   "cell_type": "code",
   "execution_count": 371,
   "metadata": {
    "collapsed": true
   },
   "outputs": [
    {
     "data": {
      "text/plain": [
       "{'title': 'Diary Entry #34:\\xa0What does reimagining a society that wouldn’t need the police look like?',\n",
       " 'date': 'August 1st, 2020',\n",
       " 'num_notes': 3,\n",
       " 'unique_pageviews': 51,\n",
       " 'url': 'https://gaysiandiaries.com/post/625293600413171712/diary-entry-34-what-does-reimagining-a-society',\n",
       " 'text': 'Eight years ago, I lived in Flushing and had recently learned the ways of Korean drumming. One day, I was recruited as a drummer to go to Washington, DC to march and raise awareness about immigration legislation. We left New York City at around 6 am and got back in the evening.\\n\\nI have a habit of making stupid mistakes that get me into a bit of trouble all the time. When I’ve been tired, hungry, cold, or thirsty, I’ve been even prone to unintentionally cause myself harm. That evening, I was tired as I was walking home alone after all the activities with the contingent. There were around 5 Black or Brown kids hanging around that I had to pass by on my way home. I took a glance at them but avoided eye contact.\\n\\nWhat you should know at this point is that I’m also trans and at that time I had a fraction of the confidence I have now. There was also no man in my life that had ever thought to teach me how to physically conduct myself.\\n\\nMaybe it was because these kids also needed to assert themselves physically, or that I am always in disbelief when I’m chosen, but when an arm came out in front of me to block my path and I heard a demand for my phone, I resisted. One of these kids punched me in my face hard enough to break my glasses. Then they lifted me off my feet. I was wiggling to get free of their grasp before they dropped me. I heard something like “it’s a girl” as they ran away in a panic.\\n\\nI didn’t go to the police from a knee-jerk reaction for safety.\\xa0 A friend nagged me to go to the police precinct until I did. A detective took down my statement and gave me a card in case I needed any follow up. I also avoided the scene of the crime for a time out of fear. I didn’t feel like the cops provided me any resolution. Occasionally I would get a sinus headache that I could relieve myself from if I put pressure on the left side of the bridge of my nose.\\n\\nToday, I’m living through a pandemic disproportionately impacting Black and Brown folks. Black Lives Matter protesters are demanding we defund the police after the Obama-era police reform failed to stop the death of George Floyd. The list of names of Black trans women who have died continue to get longer and longer at a speed that disturbs me deeply, while I’m still trying to make sense of the senseless death of Layleen Polanco in New York City’s prison system from a year ago. I badly want this crisis to stop and I want to be able to advocate for necessary changes. I’ve read up on the argument to defund the police and learned how much the demand also requires that we collectively build what a real safe society looks like. I attended a Zoom session where they asked us individually to think about a specific time we needed community safety, whether or not the police provided it, and how we would re-imagine what that would look like without the police.\\n\\nThis prompt made me think of that incident from eight years, and how much the incident is still unjustly unresolved.\\n\\nIf we could live beyond the constraints of reality and time travel, I would go back to the time of the mugging with more strength, courage, and wit. Most of my life, I’ve come off very non-threatening, so much so that people think they can take advantage of me until I lash out. I think I’ve developed some ability to set boundaries to avoid an outright lashing out. But even if I could somehow find and confront my muggers today, I’m not sure I could truly resolve all the problematic gendered questions that came up for me in that incident.\\n\\nIn a just world, we would respond to this incident among many as a call to change society so men would be less violent. When men don’t have to prove their masculinity with physical dominance or conditioned to fear being perceived as weak, we can also slowly stop the cycle of physical violence in society. When there’s less harm, then there’s less need for protection. And the police rarely successfully provide protection for people because these situations can escalate anywhere and they can’t be everywhere. It would also eliminate the need for us to physically (and violently) remove members of our society to stop the violence by putting them in prisons. It would also eliminate making judgments of whether or not any person is deserving to be part of society, as if they could not change to become better.\\n\\nI believe that we all have to participate to create this better world. I’m willing to be part of the solution. Wouldn’t you?\\n\\nRyan'}"
      ]
     },
     "execution_count": 371,
     "metadata": {},
     "output_type": "execute_result"
    }
   ],
   "source": [
    "for result in cursor:\n",
    "    result\n",
    "    break"
   ]
  },
  {
   "cell_type": "code",
   "execution_count": 372,
   "metadata": {},
   "outputs": [
    {
     "data": {
      "text/plain": [
       "<pymongo.results.InsertManyResult at 0x7f9a6525ce00>"
      ]
     },
     "execution_count": 372,
     "metadata": {},
     "output_type": "execute_result"
    }
   ],
   "source": [
    "db.g3s.insert_many(g3s_blog_dicts_with_unique_pageviews)"
   ]
  },
  {
   "cell_type": "code",
   "execution_count": 373,
   "metadata": {},
   "outputs": [],
   "source": [
    "cursor = db.g3s.find({}, {'_id': 0, 'title': 1, 'date': 1, 'num_notes': 1, 'unique_pageviews': 1,\n",
    "                         'url': 1, 'text': 1})"
   ]
  },
  {
   "cell_type": "code",
   "execution_count": 374,
   "metadata": {
    "collapsed": true
   },
   "outputs": [
    {
     "data": {
      "text/plain": [
       "{'title': 'Follower Friday: dandypandy',\n",
       " 'date': 'Jan 15th, 2016',\n",
       " 'num_notes': 10,\n",
       " 'unique_pageviews': 6,\n",
       " 'url': 'https://gaysianthirdspace.tumblr.com/post/137377584882/follower-friday-dandypandy',\n",
       " 'text': 'Follower Fridays is a series of profiles highlighting members of Gaysian Third Space to showcase the diversity of gaysians in the Community. This week’s featured member is @dandypandy.\\n\\n\\n\\n\\n\\nWho are you?\\n\\n\\n\\nMy identity is in flux at this time of my life as I try to reconcile future aspirations and current actions. I am a second generation Korean American who sometimes forgets to live a little.\\n\\n\\n\\nWhere are you from?\\n\\n\\n\\nI grew up in the suburbs near LA and am now going to school in San Diego.\\n\\n\\n\\nWhat do you do?\\n\\n\\n\\nI study mechanical engineering, co-coordinate a student organization, volunteer in river clean-ups, and work with GIS. In my free time I like to take pictures, eat froyo, and dance (after having a few drinks).\\n\\n\\n\\nWhat are you passionate about?\\n\\n\\n\\nMy recent time in school has allowed me to explore my interests and discover what I’m passionate about, namely the environment, education, and service. Nature provides personal enjoyment for me and is necessary to sustain life. Education empowers and creates potential in facilitating social justice. Service is to give back to the communities you are a part of.\\n\\n\\n\\nWhat is your dream job (real or fantasy)?\\n\\n\\n\\nFor a career project in third grade, I somehow managed to interview a poet because I was interested in poetry (I knew how to rhyme and that was about it). In fourth grade, my friend and I would make stories together and I would be the illustrator. \\xa0Yet ten year later and I’m pursuing a STEM major. Ideally, I would like to be a college professor, so that I would be able to do research while teach undergraduates at the same time. \\n\\n\\n\\nIf you could change the world with one idea, what would it be?\\n\\n\\n\\nFind balance, especially in being an individual and being a member of a group (e.g. culture, family, organization, couple, etc.)\\n\\n'}"
      ]
     },
     "execution_count": 374,
     "metadata": {},
     "output_type": "execute_result"
    }
   ],
   "source": [
    "for result in cursor:\n",
    "    result\n",
    "    break"
   ]
  },
  {
   "cell_type": "code",
   "execution_count": 184,
   "metadata": {},
   "outputs": [
    {
     "data": {
      "text/plain": [
       "[{'test_count': 1}]"
      ]
     },
     "execution_count": 184,
     "metadata": {},
     "output_type": "execute_result"
    }
   ],
   "source": [
    "pipeline = [{'$match': {'title': 'Diary Entry #33: How real are dreams?'}}, {'$count': 'test_count'}]\n",
    "\n",
    "list(db.gd.aggregate(pipeline))"
   ]
  }
 ],
 "metadata": {
  "kernelspec": {
   "display_name": "Python [conda env:metis] *",
   "language": "python",
   "name": "conda-env-metis-py"
  },
  "language_info": {
   "codemirror_mode": {
    "name": "ipython",
    "version": 3
   },
   "file_extension": ".py",
   "mimetype": "text/x-python",
   "name": "python",
   "nbconvert_exporter": "python",
   "pygments_lexer": "ipython3",
   "version": "3.8.3"
  }
 },
 "nbformat": 4,
 "nbformat_minor": 4
}
