{
 "cells": [
  {
   "cell_type": "code",
   "execution_count": 1,
   "metadata": {},
   "outputs": [],
   "source": [
    "import sys\n",
    "sys.path.append('./../src')"
   ]
  },
  {
   "cell_type": "code",
   "execution_count": 141,
   "metadata": {
    "ExecuteTime": {
     "end_time": "2020-08-10T02:28:25.451998Z",
     "start_time": "2020-08-10T02:28:24.009325Z"
    }
   },
   "outputs": [],
   "source": [
    "import pandas as pd\n",
    "import numpy as np\n",
    "import seaborn as sns\n",
    "import matplotlib.pyplot as plt\n",
    "import pickle\n",
    "import datetime\n",
    "from bs4 import BeautifulSoup\n",
    "import requests\n",
    "import web_scraping as ws\n",
    "import re\n",
    "from importlib import reload\n",
    "from pymongo import MongoClient\n",
    "\n",
    "%config InlineBackend.figure_format = 'svg'\n",
    "%matplotlib inline\n",
    "sns.set(color_codes=True)\n",
    "plt.style.use('seaborn-colorblind')\n",
    "\n",
    "pd.set_option('display.max_columns', None)\n",
    "pd.set_option('display.max_rows', 50)\n",
    "pd.set_option('display.precision', 2)"
   ]
  },
  {
   "cell_type": "code",
   "execution_count": 21,
   "metadata": {},
   "outputs": [
    {
     "data": {
      "text/plain": [
       "<module 'web_scraping' from './src/web_scraping.py'>"
      ]
     },
     "execution_count": 21,
     "metadata": {},
     "output_type": "execute_result"
    }
   ],
   "source": [
    "# This piece of code saves me so much time! \n",
    "reload(ws)"
   ]
  },
  {
   "cell_type": "markdown",
   "metadata": {},
   "source": [
    "## Scraping Gaysian Diaries ##\n",
    "Parsing steps:\n",
    "1. Get all the blog post urls by navigating through each GD page (there are currently 4 pages). Put them in a list.\n",
    "2. Parse through each blog post and collect the title, post date, and the paragraphs. The\n",
    "3. Save the titles, post dates in a list of dicts and the paragraphs in .txt files. "
   ]
  },
  {
   "cell_type": "code",
   "execution_count": 119,
   "metadata": {
    "ExecuteTime": {
     "end_time": "2020-08-10T02:28:25.460266Z",
     "start_time": "2020-08-10T02:28:25.454141Z"
    }
   },
   "outputs": [],
   "source": [
    "gd_home_page = 'https://gaysiandiaries.com/'"
   ]
  },
  {
   "cell_type": "code",
   "execution_count": 120,
   "metadata": {},
   "outputs": [],
   "source": [
    "gd_blog_dicts = ws.gd_get_blog_dicts(gd_home_page)"
   ]
  },
  {
   "cell_type": "code",
   "execution_count": 186,
   "metadata": {},
   "outputs": [
    {
     "data": {
      "text/plain": [
       "{'title': 'Diary Entry #1',\n",
       " 'date': 'March 1st, 2016',\n",
       " 'url': 'https://gaysiandiaries.com/post/140302789153/diary-entry-1',\n",
       " 'text': 'Dear Diary,\\n\\nI spend a lot of time analyzing how much our past experiences affect who we are today. Growing up, my father wasn’t around much. He did business internationally while my mom took care of us at home. My parents were always supportive of me and my sisters. My dad was endearing but was never a man of many words. My mother cared for us so much and always wanted the best for us. Every night before bed, my mom would hold my hands and tell me she loved me. She made sure I knew that every night before I fell asleep.\\n\\nWhen I was 8, my mom found out my father was having an affair during his Asia business trips. I don’t know how she found out, but she somehow obtained a photo of the mistress and some letters that my dad had written to her.\\xa0I noticed my mom staying up late at night crying, obsessively staring at the evidence that my father was being unfaithful.\\xa0\\n\\nMy mom let us know what my dad was doing and told us it was not ok. It hurt us so much to see our mom crying every night that we turned against our father. Whenever my dad came to visit, our parents would scream at each other deep into the night. My sister and I woke up every night around 1am to see Mom and Dad hitting each other, often with metal objects. It got so bad that the police had to intervene. I was still only 8 at the time, so looking back, it surprises me how they didn’t even try to hide that imagery from me.\\xa0\\n\\nWhen I was 10, my mom told us that we were all going to move to Honduras with my dad in the hope of saving their failing marriage. Unfortunately, the situation became much worse there, and my mother felt trapped living in a foreign country where she was completely dependent on my father to survive. By this point, she had become so emotionally damaged that she was developing a number of mental health issues.\\xa0\\n\\nLiving in Honduras was also when I first experienced blatant racism. When I told people I was from “Estados Unidos” (United States), they raised their eyebrows and said I had to be from China. Bullies would call me “Chow” and “Chino feo” (ugly Chinese boy) almost everyday. When people saw us in public, they would scream out what they thought Chinese sounded like. Sometimes I would laugh along to hide the pain. When my mom asked if I ever experienced racism in school, I smiled at her and said no. I couldn’t stand to hurt her any more. I also knew that just like she couldn’t do anything to save her marriage, she couldn’t do anything to stop racist bullies.\\n\\nWhen I was 12, my mom and I moved back to Texas. Shortly after, she separated with my father, but she was no longer the same person from before. We rarely had a positive interaction. She never told me she loved me anymore. She began telling me almost everyday that she wished she never gave birth to me. She began denying that I was her child, saying that I probably came from someone else and that I was her burden to take care of. She said that all she wanted was for me to grow up and move out so she could be free. From a preteen throughout my teenage years, I never had the emotional support of my parents. I know it’s hard to go through a divorce, but I wish my mom would have been strong for me. Even now, I still feel the emotional void of my parents.\\xa0\\n\\nI’ve learned to live without the emotional support of my parents. When it comes to my personal life, I either trust people too soon or I never trust them at all. I’m blessed with a few good friends who are always there for me. I’m still discovering each day how I can heal. I moved to New York because I thought that I could have a new start here. When people tell me I should be brave and come out to my parents, they don’t realize it’s not really an option. I speak to my parents once or twice a year. Why would I risk having those few precious interactions go wrong?\\n\\nEven after all of this, I love my parents very much. I know they love me back, even if they don’t say it. As I’ve grown older, I’ve realized that relationships can be complicated, infidelity happens, and marriages fail. This story was told through my eyes, but only they know what happened behind closed doors. I don’t condone what my father did, but I have forgiven him and don’t hold it against him. I also know that my parents moved to the West because they thought we would have a better life here, and I never take that for granted.\\xa0\\n\\nEveryday I wake up, and I feel so thankful. I’m thankful to live in a city where I can express my sexuality without fearing my right to live. I’m thankful to live in an age when condoms are accessible and HIV-prevention programs are becoming increasingly prevalent. I’m thankful for the supportive people I have in my life right now that I never thought I would ever have.\\xa0\\n\\nI’m thankful for GAPIMNY for being so receptive to this project. They’ve been nothing but welcoming and supportive since I met them two years ago. \\n\\nThis was a little piece of my story that I wanted to share with the queer and transgender API community. I know that being a double minority can be an isolating experience. In a social setting, it can be hard to open up about personal issues. I wanted to create a space where we can let our walls down and share each other’s experiences. If my story reaches even one person out there and makes them feel less alone, then I don’t regret telling this story.\\n\\nI invite you all to share your stories as well. As queer and transgender API’s, our stories are largely invisible to mainstream media, online content, and even our personal conversations. We all have so many stories to share that are unique to us as individuals but still relatable to the entire community.\\xa0\\n\\nWhen it comes to me and my family, it’s a work in progress. I’d like to one day find love and invite my family to my wedding, but I don’t know if that’s possible.\\xa0\\n\\nWhen it comes to me and myself, it’s also a work in progress. I work each day to make sure I love myself. For a long time, I tried to love myself by changing the outside, but I never got the results I wanted on the inside. I see this happen often in the queer API and general gay community, most likely due to issues we are afraid to address. My hope is that The Gaysian Diaries will allow us to share and discover these parts of ourselves and help us in our process of self-love. We should all be truly proud of who we are and all that we have overcome.\\n\\nCharles Lin',\n",
       " '_id': ObjectId('5f348d7f6aeab6cbdc252fd4')}"
      ]
     },
     "execution_count": 186,
     "metadata": {},
     "output_type": "execute_result"
    }
   ],
   "source": [
    "gd_blog_dicts[0]"
   ]
  },
  {
   "cell_type": "code",
   "execution_count": 127,
   "metadata": {},
   "outputs": [],
   "source": [
    "with open('../pickles/gd_blog_dicts.pickle', 'wb') as to_write:\n",
    "    pickle.dump(gd_blog_dicts, to_write)"
   ]
  },
  {
   "cell_type": "markdown",
   "metadata": {},
   "source": [
    "## Scraping G3S ##"
   ]
  },
  {
   "cell_type": "code",
   "execution_count": 5,
   "metadata": {},
   "outputs": [],
   "source": [
    "g3s_post_directory_page = 'https://gaysianthirdspace.tumblr.com/tags'\n",
    "g3s_soup = ws.create_soup(g3s_post_directory_page)"
   ]
  },
  {
   "cell_type": "code",
   "execution_count": 64,
   "metadata": {},
   "outputs": [],
   "source": [
    "g3s_all_blog_urls = ws.g3s_get_blog_urls(g3s_tag_page_urls)"
   ]
  },
  {
   "cell_type": "code",
   "execution_count": 117,
   "metadata": {},
   "outputs": [
    {
     "data": {
      "text/plain": [
       "<module 'web_scraping' from './../src/web_scraping.py'>"
      ]
     },
     "execution_count": 117,
     "metadata": {},
     "output_type": "execute_result"
    }
   ],
   "source": [
    "reload(ws)"
   ]
  },
  {
   "cell_type": "code",
   "execution_count": 67,
   "metadata": {},
   "outputs": [],
   "source": [
    "with open('../pickles/g3s_blog_urls.pickle', 'wb') as to_write:\n",
    "    pickle.dump(g3s_all_blog_urls, to_write)"
   ]
  },
  {
   "cell_type": "code",
   "execution_count": 128,
   "metadata": {
    "collapsed": true
   },
   "outputs": [
    {
     "name": "stdout",
     "output_type": "stream",
     "text": [
      "1\n",
      "2\n",
      "3\n",
      "4\n",
      "5\n",
      "6\n",
      "7\n",
      "8\n",
      "9\n",
      "10\n",
      "11\n",
      "12\n",
      "13\n",
      "14\n",
      "15\n",
      "16\n",
      "17\n",
      "18\n",
      "19\n",
      "20\n",
      "21\n",
      "22\n",
      "23\n",
      "24\n",
      "25\n",
      "26\n",
      "27\n",
      "28\n",
      "29\n",
      "30\n",
      "31\n",
      "32\n",
      "33\n",
      "34\n",
      "35\n",
      "36\n",
      "37\n",
      "38\n",
      "39\n",
      "40\n",
      "41\n",
      "42\n",
      "43\n",
      "44\n",
      "45\n",
      "46\n",
      "47\n",
      "48\n",
      "49\n",
      "50\n",
      "51\n",
      "52\n",
      "53\n",
      "54\n",
      "55\n",
      "56\n",
      "57\n",
      "58\n",
      "59\n",
      "60\n",
      "61\n",
      "62\n",
      "63\n",
      "64\n",
      "65\n",
      "66\n",
      "67\n",
      "68\n",
      "69\n",
      "70\n",
      "71\n",
      "72\n",
      "73\n",
      "74\n",
      "75\n",
      "76\n",
      "77\n",
      "78\n",
      "79\n",
      "80\n",
      "81\n",
      "82\n",
      "83\n",
      "84\n",
      "85\n",
      "86\n",
      "87\n",
      "88\n",
      "89\n",
      "90\n",
      "91\n",
      "92\n",
      "93\n",
      "94\n",
      "95\n",
      "96\n",
      "97\n",
      "98\n",
      "99\n",
      "100\n",
      "101\n",
      "102\n",
      "103\n",
      "104\n",
      "105\n",
      "106\n",
      "107\n",
      "108\n",
      "109\n",
      "110\n",
      "111\n",
      "112\n",
      "113\n",
      "114\n",
      "115\n",
      "116\n",
      "117\n",
      "118\n",
      "119\n",
      "120\n",
      "121\n",
      "122\n",
      "123\n",
      "124\n",
      "125\n",
      "126\n",
      "127\n",
      "128\n",
      "129\n",
      "130\n",
      "131\n",
      "132\n",
      "133\n",
      "134\n",
      "135\n",
      "136\n",
      "137\n",
      "138\n",
      "139\n",
      "140\n",
      "141\n",
      "142\n",
      "143\n",
      "144\n",
      "145\n",
      "146\n",
      "147\n",
      "148\n",
      "149\n",
      "150\n",
      "151\n",
      "152\n",
      "153\n",
      "154\n",
      "155\n",
      "156\n",
      "157\n",
      "158\n",
      "159\n",
      "160\n",
      "161\n",
      "162\n",
      "163\n",
      "164\n",
      "165\n",
      "166\n",
      "167\n",
      "168\n",
      "169\n",
      "170\n",
      "171\n",
      "172\n",
      "173\n",
      "174\n",
      "175\n",
      "176\n",
      "177\n",
      "178\n",
      "179\n",
      "180\n",
      "181\n",
      "182\n",
      "183\n",
      "184\n",
      "185\n",
      "186\n",
      "187\n",
      "188\n",
      "189\n",
      "190\n",
      "191\n",
      "192\n",
      "193\n",
      "194\n",
      "195\n",
      "196\n",
      "197\n",
      "198\n",
      "199\n",
      "200\n",
      "201\n",
      "202\n",
      "203\n",
      "204\n",
      "205\n",
      "206\n",
      "207\n",
      "208\n",
      "209\n",
      "210\n",
      "211\n",
      "212\n",
      "213\n",
      "214\n",
      "215\n",
      "216\n",
      "217\n",
      "218\n",
      "219\n",
      "220\n",
      "221\n",
      "222\n",
      "223\n",
      "224\n",
      "225\n",
      "226\n",
      "227\n",
      "228\n",
      "229\n",
      "230\n",
      "231\n",
      "232\n",
      "233\n",
      "234\n",
      "235\n",
      "236\n",
      "237\n",
      "238\n",
      "239\n",
      "240\n",
      "241\n",
      "242\n",
      "243\n",
      "244\n",
      "245\n",
      "246\n",
      "247\n",
      "248\n",
      "249\n",
      "250\n",
      "251\n",
      "252\n",
      "253\n",
      "254\n",
      "255\n",
      "256\n",
      "257\n",
      "258\n",
      "259\n",
      "260\n",
      "261\n",
      "262\n",
      "263\n",
      "264\n",
      "265\n",
      "266\n",
      "267\n",
      "268\n",
      "269\n",
      "270\n",
      "271\n",
      "272\n",
      "273\n",
      "274\n",
      "275\n",
      "276\n",
      "277\n",
      "278\n",
      "279\n",
      "280\n",
      "281\n",
      "282\n",
      "283\n",
      "284\n",
      "285\n",
      "286\n",
      "287\n",
      "288\n",
      "289\n",
      "290\n",
      "291\n",
      "292\n",
      "293\n",
      "294\n",
      "295\n",
      "296\n",
      "297\n",
      "298\n",
      "299\n",
      "300\n",
      "301\n",
      "302\n",
      "303\n",
      "304\n",
      "305\n",
      "306\n",
      "307\n",
      "308\n",
      "309\n",
      "310\n",
      "311\n",
      "312\n",
      "313\n",
      "314\n",
      "315\n",
      "316\n",
      "317\n",
      "318\n",
      "319\n",
      "320\n",
      "321\n",
      "322\n",
      "323\n",
      "324\n",
      "325\n",
      "326\n",
      "327\n",
      "328\n",
      "329\n",
      "330\n",
      "331\n",
      "332\n",
      "333\n",
      "334\n",
      "335\n",
      "336\n",
      "337\n",
      "338\n",
      "339\n",
      "340\n",
      "341\n",
      "342\n"
     ]
    }
   ],
   "source": [
    "g3s_blog_dicts = ws.g3s_get_blog_dicts(g3s_all_blog_urls)"
   ]
  },
  {
   "cell_type": "code",
   "execution_count": 183,
   "metadata": {},
   "outputs": [
    {
     "data": {
      "text/plain": [
       "{'title': 'Follower Friday: gregasaurus',\n",
       " 'date': 'Jan 8th, 2016',\n",
       " 'url': 'https://gaysianthirdspace.tumblr.com/post/136911555225/follower-friday-gregasaurus',\n",
       " 'text': 'Follower Fridays is a series of profiles highlighting members of Gaysian Third Space to showcase the diversity of gaysians in the Community. This week’s featured member is @gregasaurus\\n\\nWho are you?\\n\\n\\n\\nWow, this feels like filling out an OK Cupid profile. Anywho, if you couldn’t pick it up from my carefully encrypted Tumblr handle, my name is Greg. I’m 25, which in both Tumblr and gay years makes me a fossil (though I still don’t qualify for that discount at IHOP). I like writing, taking pictures of and/or singing love ballads to my food, and long walks to basically anywhere since I don’t drive. I appreciate irreverent humor, puns, and just general weirdness that most people are afraid to embrace within themselves. I feel like honoring your weirdness and quirks is akin to coming out–it allows you to be yourself, unapologetically, in spite of potential \\xa0judgement from others. And in a world already full of people trying to be perfect little squares, why not be a glorious trapezoid?\\n\\n\\n\\nWhere are you from?\\n\\n\\n\\nI’m originally from a little town in central Massachusetts where nothing ever happens–let’s call it Bumblefuck. After incubating for 18 years in the white, suburban Bumblefuck bubble, I uprooted and moved to NYC for college. It was in New York that I first learned how to navigate a more diverse food culture (what’s Thai food?), honed my public transportation skills, and was introduced to the gay dating scene. Despite an overwhelming amount of trial and error in all respects, I feel like \\n\\nliving in NYC helped me to figure out who I was. But in typical Greg fashion, where consistency and stability are anathema, I moved again to San Francisco after graduation for work. It’s been three years since and I feel more and more at home with each month. But in all honesty, we’ll see how long I last here before the travel itch whisks me off to another city.\\n\\n\\n\\nWhat do you do?\\n\\n\\n\\nContrary to what my Instagram and waist-to-hip ratio might suggest, I work as a dietitian in a hospital. The easiest way to describe what I do is to divide it between two populations: working with those who can eat vs working with those who can’t. For people who can tolerate nutrition by mouth, I help them figure out ways to eat appropriately according to their disease state and overall health goals. For people who cannot tolerate nutrition by mouth for whatever reason, I develop regimens for enteral nutrition (tube feedings to nourish an intubated patient, for example) or parenteral nutrition (i.e. IV nutrition to nourish a patient without a functioning GI tract). Blah blah blah more medical terminology but I basically talk about food and nutrients all day.\\n\\n\\n\\nWhat are you passionate about?\\n\\n\\n\\nI’m passionate about all aspects of food, eating, and cooking, from farm to table, fork to mouth, and gut to cell. I spend a good amount of free time playing games and working on brain teasers and puzzles (I still play the daily Wonderword when I can). I also used to be very passionate about languages, but have failed to keep up with it since college. I actually have a minor in American Sign Language, but after 3 years of minimal use I’m beyond rusty. If anyone is interested in helping me brush up on signing, hit me up.\\n\\n\\n\\nWhat is your dream job (real or fantasy)?\\n\\n\\n\\nHonestly I’m working at my dream job already. But once I get worn out from healthcare, I might want to open up my own little bakery/cafe somewhere and just chill making lattes and scones for all the local basics.\\n\\n\\n\\nIf you could change the world with one idea, what would it be?\\n\\n\\n\\nChange the current attitude and climate around the intersections of health, diet, and body image. Gay men are especially burdened by this, and I think there’s a general lack of knowledge, conversation, and tact in both the gay community and the healthcare profession when trying to unpack it.\\n\\n',\n",
       " '_id': ObjectId('5f348d3c6aeab6cbdc252fb2')}"
      ]
     },
     "execution_count": 183,
     "metadata": {},
     "output_type": "execute_result"
    }
   ],
   "source": [
    "g3s_blog_dicts[-1]"
   ]
  },
  {
   "cell_type": "code",
   "execution_count": 140,
   "metadata": {},
   "outputs": [],
   "source": [
    "with open('../pickles/g3s_blog_dicts.pickle', 'wb') as to_write:\n",
    "    pickle.dump(g3s_blog_dicts, to_write)"
   ]
  },
  {
   "cell_type": "markdown",
   "metadata": {},
   "source": [
    "## Uploading Scraped Data to MongoDB ##"
   ]
  },
  {
   "cell_type": "code",
   "execution_count": 142,
   "metadata": {},
   "outputs": [
    {
     "data": {
      "text/plain": [
       "[]"
      ]
     },
     "execution_count": 142,
     "metadata": {},
     "output_type": "execute_result"
    }
   ],
   "source": [
    "client = MongoClient()\n",
    "db = client.blogs\n",
    "db.list_collection_names()"
   ]
  },
  {
   "cell_type": "code",
   "execution_count": 146,
   "metadata": {},
   "outputs": [
    {
     "data": {
      "text/plain": [
       "<pymongo.results.InsertManyResult at 0x7f9a6766f0c0>"
      ]
     },
     "execution_count": 146,
     "metadata": {},
     "output_type": "execute_result"
    }
   ],
   "source": [
    "db.gd.insert_many(gd_blog_dicts)"
   ]
  },
  {
   "cell_type": "code",
   "execution_count": 164,
   "metadata": {},
   "outputs": [],
   "source": [
    "cursor = db.gd.find({}, {'_id': 0, 'title': 1, 'date': 1, 'url': 1, 'text': 1})"
   ]
  },
  {
   "cell_type": "code",
   "execution_count": 144,
   "metadata": {},
   "outputs": [
    {
     "data": {
      "text/plain": [
       "<pymongo.results.InsertManyResult at 0x7f9a64e710c0>"
      ]
     },
     "execution_count": 144,
     "metadata": {},
     "output_type": "execute_result"
    }
   ],
   "source": [
    "db.g3s.insert_many(g3s_blog_dicts)"
   ]
  },
  {
   "cell_type": "code",
   "execution_count": 166,
   "metadata": {},
   "outputs": [],
   "source": [
    "cursor = db.g3s.find({}, {'_id': 0, 'title': 1, 'date': 1, 'url': 1, 'text': 1})"
   ]
  },
  {
   "cell_type": "code",
   "execution_count": 177,
   "metadata": {},
   "outputs": [],
   "source": [
    "cursor = db.g3s.find({'date': 'Apr 4th, 2016'}, {'_id': 0, 'title': 1, 'date': 1, 'url': 1, 'text': 1})"
   ]
  },
  {
   "cell_type": "code",
   "execution_count": 178,
   "metadata": {},
   "outputs": [
    {
     "data": {
      "text/plain": [
       "[{'title': None,\n",
       "  'date': 'Apr 4th, 2016',\n",
       "  'url': 'https://gaysianthirdspace.tumblr.com/post/142262150964/heyarnie-i-dont-usually-write-sappy-friendship',\n",
       "  'text': 'heyarnie:\\n\\nI don’t usually write sappy friendship posts, but I’m feeling sentimental tonight so I’ll break the rules.\\n\\nLet me tell you the story about *Gumby\\n\\nI started following this guy, three years ago when I was depressed and lonely.\\n\\nI had no gay friends back then and barely had any gay experiences.\\n\\nHe was known as Gumbyiscool.\\xa0His writing was beautiful and his stories were interesting. Some of them were so familiar to me, I could have sworn that I had written them myself.\\n\\nOver time, I grew attached to that blog. I looked forward to reading those daily posts, and reading them actually nade me feel less lonely. It made me feel like someone out there was going through the same thing.\\n\\nThen he deleted his blog and disappeared off the face of Tumblr. I was devestated. It baffled me - why was I so dependant? So lonely, without those daily posts. I got over it eventually but struggled to find other interesting blogs to read in the mean time.\\n\\nBut he came back, as Blackstickercadillac. And then Whitneyhoustonfan. And then Listenspeakcreate.\\xa0\\n\\nI was wary this time, making sure not to live through stories that weren’t my own. I had to detach. To go out and create my own stories. And so I did.\\n\\nOne day Blackstickercadillac\\xa0came down to Sydney and ambushed me into meeting him. I didn’t know how to say ‘no’ so I agreed. We met and I decided that I didn’t like him. I decided that he smiled too much and I didn’t like those rose-coloured lenses he wore around.\\n\\nBut I couldn’t escape him. He wanted to meet again.\\n\\nSo I introduced him to my friends as distraction.\\n\\nI brought him along to my date (with a person I did not like, but did not know how to reject) as third wheel. Except he didn’t know that it was a date or that he was third wheeling.Thankfully, he saved the day by talking non-stop to my date and saved me from the pain of sitting through it on my own. That was nice of him.\\n\\nFast forward a few months and I end up flying down to Melbourne with my Best Friend, where I was introduced to *Dil, *Heale, *Bunny and Socheata - more virtual people I had known or heard of for a long time and never met. And there I learnt a secret that I had to later hide for another 12 months before telling him.\\n\\nSlowly, the layer of secrets started to peel away.\\xa0\\n\\nHe is now known as @listenspeakcreatev2\\u200b \\xa0(Go follow him guys), but I know him just by his name. And I’m proud to say that he’s my friend and not just an internet buddy.\\xa0\\n\\nIt amazes me how Tumblr can bring complete strangers together and facilitate amazing friendships. I’m really thankful. Thankful for an amazing friend who I never in a million years would have met but for this app.Thankful for the fact that no matter how lonely I feel, there will always be someone on the other side of the screen helping me get through it (you guys).\\n\\n*Names have been changed.\\n\\nThank you, @heyarnie, for sharing how Tumblr, time and time again, can produce beautiful friendships across vast distances, solely mediated by keystrokes on an electronic screen. This post is also a tribute to @listenspeakcreatev2, who (for now) has retired from Tumblr and we wish him all the best.\\n\\nThis week, we’ll look at a spectrum of views on online friendships, including my own personal thoughts (if I’m able to get to it in time XD) in the lead up to an announcement of an exciting new project we hope to roll out soon!\\n\\n-Jeffrey'}]"
      ]
     },
     "execution_count": 178,
     "metadata": {},
     "output_type": "execute_result"
    }
   ],
   "source": [
    "list(cursor)"
   ]
  },
  {
   "cell_type": "code",
   "execution_count": 184,
   "metadata": {},
   "outputs": [
    {
     "data": {
      "text/plain": [
       "[{'test_count': 1}]"
      ]
     },
     "execution_count": 184,
     "metadata": {},
     "output_type": "execute_result"
    }
   ],
   "source": [
    "pipeline = [{'$match': {'title': 'Diary Entry #33: How real are dreams?'}}, {'$count': 'test_count'}]\n",
    "\n",
    "list(db.gd.aggregate(pipeline))"
   ]
  }
 ],
 "metadata": {
  "kernelspec": {
   "display_name": "Python [conda env:metis] *",
   "language": "python",
   "name": "conda-env-metis-py"
  },
  "language_info": {
   "codemirror_mode": {
    "name": "ipython",
    "version": 3
   },
   "file_extension": ".py",
   "mimetype": "text/x-python",
   "name": "python",
   "nbconvert_exporter": "python",
   "pygments_lexer": "ipython3",
   "version": "3.8.3"
  }
 },
 "nbformat": 4,
 "nbformat_minor": 4
}
