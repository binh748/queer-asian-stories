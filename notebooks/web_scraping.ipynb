{
 "cells": [
  {
   "cell_type": "code",
   "execution_count": 1,
   "metadata": {},
   "outputs": [],
   "source": [
    "import sys\n",
    "sys.path.append('./../src')"
   ]
  },
  {
   "cell_type": "code",
   "execution_count": 2,
   "metadata": {},
   "outputs": [
    {
     "data": {
      "text/plain": [
       "['/Users/binhhoang/Google Drive/Data Science/Metis Bootcamp/Projects/project_4/queer_asian_stories/notebooks',\n",
       " '/Users/binhhoang/opt/anaconda3/envs/metis/lib/python38.zip',\n",
       " '/Users/binhhoang/opt/anaconda3/envs/metis/lib/python3.8',\n",
       " '/Users/binhhoang/opt/anaconda3/envs/metis/lib/python3.8/lib-dynload',\n",
       " '',\n",
       " '/Users/binhhoang/opt/anaconda3/envs/metis/lib/python3.8/site-packages',\n",
       " '/Users/binhhoang/opt/anaconda3/envs/metis/lib/python3.8/site-packages/IPython/extensions',\n",
       " '/Users/binhhoang/.ipython',\n",
       " './../src']"
      ]
     },
     "execution_count": 2,
     "metadata": {},
     "output_type": "execute_result"
    }
   ],
   "source": [
    "sys.path"
   ]
  },
  {
   "cell_type": "code",
   "execution_count": 3,
   "metadata": {
    "ExecuteTime": {
     "end_time": "2020-08-10T02:28:25.451998Z",
     "start_time": "2020-08-10T02:28:24.009325Z"
    }
   },
   "outputs": [],
   "source": [
    "import pandas as pd\n",
    "import numpy as np\n",
    "import seaborn as sns\n",
    "import matplotlib.pyplot as plt\n",
    "import pickle\n",
    "import datetime\n",
    "from bs4 import BeautifulSoup\n",
    "import requests\n",
    "import web_scraping as ws\n",
    "from importlib import reload\n",
    "\n",
    "%config InlineBackend.figure_format = 'svg'\n",
    "%matplotlib inline\n",
    "sns.set(color_codes=True)\n",
    "plt.style.use('seaborn-colorblind')\n",
    "\n",
    "pd.set_option('display.max_columns', None)\n",
    "pd.set_option('display.max_rows', 50)\n",
    "pd.set_option('display.precision', 2)"
   ]
  },
  {
   "cell_type": "code",
   "execution_count": 21,
   "metadata": {},
   "outputs": [
    {
     "data": {
      "text/plain": [
       "<module 'web_scraping' from './src/web_scraping.py'>"
      ]
     },
     "execution_count": 21,
     "metadata": {},
     "output_type": "execute_result"
    }
   ],
   "source": [
    "# This piece of code saves me so much time! \n",
    "reload(ws)"
   ]
  },
  {
   "cell_type": "markdown",
   "metadata": {},
   "source": [
    "## Gaysian Diaries ##\n",
    "Parsing steps:\n",
    "1. Get all the blog post urls by navigating through each GD page (there are currently 4 pages). Put them in a list.\n",
    "2. Parse through each blog post and collect the title, post date, and the paragraphs. The\n",
    "3. Save the titles, post dates in a list of dicts and the paragraphs in .txt files. "
   ]
  },
  {
   "cell_type": "code",
   "execution_count": 4,
   "metadata": {
    "ExecuteTime": {
     "end_time": "2020-08-10T02:28:25.460266Z",
     "start_time": "2020-08-10T02:28:25.454141Z"
    }
   },
   "outputs": [],
   "source": [
    "gd_home_page = 'https://gaysiandiaries.com/'\n",
    "response_text = requests.get(gd_home_page).text"
   ]
  },
  {
   "cell_type": "code",
   "execution_count": 5,
   "metadata": {},
   "outputs": [],
   "source": [
    "gd_soup = BeautifulSoup(response_text, 'html5lib')"
   ]
  },
  {
   "cell_type": "code",
   "execution_count": 8,
   "metadata": {},
   "outputs": [
    {
     "data": {
      "text/plain": [
       "['Diary Entry #34:\\xa0What does reimagining a society that wouldn’t need the police look like?',\n",
       " 'Diary Entry #33: How real are dreams?',\n",
       " 'Diary Entry #32: An Ocean of Healing',\n",
       " 'Diary Entry #31:\\xa0Breaking Free from Helplessness',\n",
       " 'Diary Entry #30:\\xa0Gay, Asian, and Aspie',\n",
       " 'Diary Entry #29:\\xa0One Asian drag queen’s take on cultural appropriation',\n",
       " 'Diary Entry #28:\\xa0Realizing the Authentic Self—The Journey of a Transgendered Korean Adoptee',\n",
       " 'Diary Entry #27:\\xa0How do you measure a year in a life?']"
      ]
     },
     "execution_count": 8,
     "metadata": {},
     "output_type": "execute_result"
    }
   ],
   "source": [
    "titles = []\n",
    "for element in gd_soup.find_all(class_='post_title'):\n",
    "    titles.append(element.text)\n",
    "titles"
   ]
  },
  {
   "cell_type": "code",
   "execution_count": 9,
   "metadata": {},
   "outputs": [
    {
     "data": {
      "text/plain": [
       "['August 1st, 2020',\n",
       " 'June 12th, 2020',\n",
       " 'June 9th, 2020',\n",
       " 'August 1st, 2019',\n",
       " 'May 15th, 2019',\n",
       " 'October 15th, 2018',\n",
       " 'August 15th, 2018',\n",
       " 'July 15th, 2018',\n",
       " 'June 1st, 2018',\n",
       " 'May 1st, 2018']"
      ]
     },
     "execution_count": 9,
     "metadata": {},
     "output_type": "execute_result"
    }
   ],
   "source": [
    "post_dates = []\n",
    "for element in gd_soup.find_all(class_='post_date'):\n",
    "    post_dates.append(element.text)\n",
    "post_dates"
   ]
  },
  {
   "cell_type": "code",
   "execution_count": 10,
   "metadata": {},
   "outputs": [
    {
     "data": {
      "text/plain": [
       "'https://gaysiandiaries.com/post/625293600413171712/diary-entry-34-what-does-reimagining-a-society'"
      ]
     },
     "execution_count": 10,
     "metadata": {},
     "output_type": "execute_result"
    }
   ],
   "source": [
    "gd_soup.find(class_='post_title').findNext().get('href')"
   ]
  },
  {
   "cell_type": "code",
   "execution_count": 11,
   "metadata": {},
   "outputs": [
    {
     "data": {
      "text/plain": [
       "['https://gaysiandiaries.com/post/625293600413171712/diary-entry-34-what-does-reimagining-a-society',\n",
       " 'https://gaysiandiaries.com/post/186710050569/diary-entry-33-how-real-are-dreams',\n",
       " 'https://gaysiandiaries.com/post/184906201823/diary-entry-32-an-ocean-of-healing',\n",
       " 'https://gaysiandiaries.com/post/179094609712/diary-entry-31-breaking-free-from-helplessness',\n",
       " 'https://gaysiandiaries.com/post/177039931593/diary-entry-30-gay-asian-and-aspie',\n",
       " 'https://gaysiandiaries.com/post/175936820624/diary-entry-29-one-asian-drag-queens-take-on',\n",
       " 'https://gaysiandiaries.com/post/174481797837/diary-entry-28-realizing-the-authentic-selfthe',\n",
       " 'https://gaysiandiaries.com/post/173497085784/diary-entry-27-how-do-you-measure-a-year-in-a']"
      ]
     },
     "execution_count": 11,
     "metadata": {},
     "output_type": "execute_result"
    }
   ],
   "source": [
    "post_urls = []\n",
    "for element in gd_soup.find_all(class_='post_title'):\n",
    "    post_urls.append(element.findNext().get('href'))\n",
    "post_urls"
   ]
  },
  {
   "cell_type": "code",
   "execution_count": 12,
   "metadata": {},
   "outputs": [],
   "source": [
    "# gd_34 = 'https://gaysiandiaries.com/post/625293600413171712/diary-entry-34-what-does-reimagining-a-society'\n",
    "# response_text = requests.get(gd_34).text\n",
    "# gd_34_soup = BeautifulSoup(response_text, 'html5lib')"
   ]
  },
  {
   "cell_type": "code",
   "execution_count": 13,
   "metadata": {},
   "outputs": [],
   "source": [
    "# paragraphs = []\n",
    "# for element in gd_34_soup.find_all('p')[1:]: # Start at index 1 since first paragraph is just a content warning\n",
    "#     paragraphs.append(element.text)\n",
    "# paragraphs"
   ]
  },
  {
   "cell_type": "code",
   "execution_count": 14,
   "metadata": {},
   "outputs": [],
   "source": [
    "# with open('gaysian_diaries/gd_34.txt', 'w') as file:\n",
    "#     file.write('\\n\\n'.join(paragraphs))     "
   ]
  },
  {
   "cell_type": "code",
   "execution_count": 15,
   "metadata": {},
   "outputs": [
    {
     "data": {
      "text/plain": [
       "'4'"
      ]
     },
     "execution_count": 15,
     "metadata": {},
     "output_type": "execute_result"
    }
   ],
   "source": [
    "# Find the jump_page class attribute in the a tag\n",
    "# Find the largest number \n",
    "# Then create a function that creates a list of each page URL I need to visit while scraping \n",
    "gd_soup.find_all('a', class_='jump_page')[-1].text"
   ]
  },
  {
   "cell_type": "code",
   "execution_count": 6,
   "metadata": {},
   "outputs": [],
   "source": [
    "gd_blog_urls = ws.gd_get_blog_urls(gd_home_page)"
   ]
  },
  {
   "cell_type": "code",
   "execution_count": 7,
   "metadata": {},
   "outputs": [
    {
     "data": {
      "text/plain": [
       "34"
      ]
     },
     "execution_count": 7,
     "metadata": {},
     "output_type": "execute_result"
    }
   ],
   "source": [
    "len(gd_blog_urls)"
   ]
  },
  {
   "cell_type": "code",
   "execution_count": 8,
   "metadata": {},
   "outputs": [
    {
     "data": {
      "text/plain": [
       "['https://gaysiandiaries.com/post/625293600413171712/diary-entry-34-what-does-reimagining-a-society',\n",
       " 'https://gaysiandiaries.com/post/186710050569/diary-entry-33-how-real-are-dreams',\n",
       " 'https://gaysiandiaries.com/post/184906201823/diary-entry-32-an-ocean-of-healing',\n",
       " 'https://gaysiandiaries.com/post/179094609712/diary-entry-31-breaking-free-from-helplessness',\n",
       " 'https://gaysiandiaries.com/post/177039931593/diary-entry-30-gay-asian-and-aspie',\n",
       " 'https://gaysiandiaries.com/post/175936820624/diary-entry-29-one-asian-drag-queens-take-on',\n",
       " 'https://gaysiandiaries.com/post/174481797837/diary-entry-28-realizing-the-authentic-selfthe',\n",
       " 'https://gaysiandiaries.com/post/173497085784/diary-entry-27-how-do-you-measure-a-year-in-a',\n",
       " 'https://gaysiandiaries.com/post/172499454622/diary-entry-26-my-firsts',\n",
       " 'https://gaysiandiaries.com/post/171431776398/diary-entry-25-lake-town',\n",
       " 'https://gaysiandiaries.com/post/170399491614/diary-entry-24-my-experience-being-queer-asian',\n",
       " 'https://gaysiandiaries.com/post/169205285785/diary-entry-23-how-i-bridged-the-gap-of-a-5-year',\n",
       " 'https://gaysiandiaries.com/post/168095389800/diary-entry-22-watching-porn-made-me-realize-i',\n",
       " 'https://gaysiandiaries.com/post/167030547361/diary-entry-21-white-gays-are-better-filmmakers',\n",
       " 'https://gaysiandiaries.com/post/165951514532/diary-entry-20',\n",
       " 'https://gaysiandiaries.com/post/164876824549/diary-entry-19',\n",
       " 'https://gaysiandiaries.com/post/163676673827/diary-entry-18',\n",
       " 'https://gaysiandiaries.com/post/162490148142/diary-entry-17',\n",
       " 'https://gaysiandiaries.com/post/161333306040/diary-entry-16',\n",
       " 'https://gaysiandiaries.com/post/160209136489/diary-entry-15',\n",
       " 'https://gaysiandiaries.com/post/159091621961/diary-entry-14',\n",
       " 'https://gaysiandiaries.com/post/157883202276/diary-entry-13',\n",
       " 'https://gaysiandiaries.com/post/156693136492/diary-entry-12',\n",
       " 'https://gaysiandiaries.com/post/155273013834/diary-entry-11',\n",
       " 'https://gaysiandiaries.com/post/153926112211/diary-entry-10',\n",
       " 'https://gaysiandiaries.com/post/152618120468/diary-entry-9',\n",
       " 'https://gaysiandiaries.com/post/151212982153/diary-entry-8',\n",
       " 'https://gaysiandiaries.com/post/149814426879/diary-entry-7',\n",
       " 'https://gaysiandiaries.com/post/148321467666/diary-entry-6',\n",
       " 'https://gaysiandiaries.com/post/146774821405/diary-entry-5',\n",
       " 'https://gaysiandiaries.com/post/145279631165/diary-entry-4',\n",
       " 'https://gaysiandiaries.com/post/143710539402/diary-entry-3',\n",
       " 'https://gaysiandiaries.com/post/142094310240/diary-entry-2',\n",
       " 'https://gaysiandiaries.com/post/140302789153/diary-entry-1']"
      ]
     },
     "execution_count": 8,
     "metadata": {},
     "output_type": "execute_result"
    }
   ],
   "source": [
    "gd_blog_urls"
   ]
  },
  {
   "cell_type": "code",
   "execution_count": 9,
   "metadata": {},
   "outputs": [],
   "source": [
    "gd_1_url = 'https://gaysiandiaries.com/post/140302789153/diary-entry-1'"
   ]
  },
  {
   "cell_type": "code",
   "execution_count": 11,
   "metadata": {},
   "outputs": [],
   "source": [
    "gd_34_url = 'https://gaysiandiaries.com/post/625293600413171712/diary-entry-34-what-does-reimagining-a-society'"
   ]
  },
  {
   "cell_type": "code",
   "execution_count": 12,
   "metadata": {},
   "outputs": [
    {
     "data": {
      "text/plain": [
       "'Diary Entry #1'"
      ]
     },
     "execution_count": 12,
     "metadata": {},
     "output_type": "execute_result"
    },
    {
     "data": {
      "text/plain": [
       "'Diary Entry #34:\\xa0What does reimagining a society that wouldn’t need the police look like?'"
      ]
     },
     "execution_count": 12,
     "metadata": {},
     "output_type": "execute_result"
    }
   ],
   "source": [
    "ws.gd_get_blog_title(gd_1_url)\n",
    "ws.gd_get_blog_title(gd_34_url)"
   ]
  },
  {
   "cell_type": "code",
   "execution_count": 15,
   "metadata": {},
   "outputs": [
    {
     "data": {
      "text/plain": [
       "'March 1st, 2016'"
      ]
     },
     "execution_count": 15,
     "metadata": {},
     "output_type": "execute_result"
    },
    {
     "data": {
      "text/plain": [
       "'August 1st, 2020'"
      ]
     },
     "execution_count": 15,
     "metadata": {},
     "output_type": "execute_result"
    }
   ],
   "source": [
    "ws.gd_get_blog_date(gd_1_url)\n",
    "ws.gd_get_blog_date(gd_34_url)"
   ]
  },
  {
   "cell_type": "code",
   "execution_count": 19,
   "metadata": {
    "collapsed": true
   },
   "outputs": [
    {
     "name": "stdout",
     "output_type": "stream",
     "text": [
      "Dear Diary,\n",
      "\n",
      "I spend a lot of time analyzing how much our past experiences affect who we are today. Growing up, my father wasn’t around much. He did business internationally while my mom took care of us at home. My parents were always supportive of me and my sisters. My dad was endearing but was never a man of many words. My mother cared for us so much and always wanted the best for us. Every night before bed, my mom would hold my hands and tell me she loved me. She made sure I knew that every night before I fell asleep.\n",
      "\n",
      "When I was 8, my mom found out my father was having an affair during his Asia business trips. I don’t know how she found out, but she somehow obtained a photo of the mistress and some letters that my dad had written to her. I noticed my mom staying up late at night crying, obsessively staring at the evidence that my father was being unfaithful. \n",
      "\n",
      "My mom let us know what my dad was doing and told us it was not ok. It hurt us so much to see our mom crying every night that we turned against our father. Whenever my dad came to visit, our parents would scream at each other deep into the night. My sister and I woke up every night around 1am to see Mom and Dad hitting each other, often with metal objects. It got so bad that the police had to intervene. I was still only 8 at the time, so looking back, it surprises me how they didn’t even try to hide that imagery from me. \n",
      "\n",
      "When I was 10, my mom told us that we were all going to move to Honduras with my dad in the hope of saving their failing marriage. Unfortunately, the situation became much worse there, and my mother felt trapped living in a foreign country where she was completely dependent on my father to survive. By this point, she had become so emotionally damaged that she was developing a number of mental health issues. \n",
      "\n",
      "Living in Honduras was also when I first experienced blatant racism. When I told people I was from “Estados Unidos” (United States), they raised their eyebrows and said I had to be from China. Bullies would call me “Chow” and “Chino feo” (ugly Chinese boy) almost everyday. When people saw us in public, they would scream out what they thought Chinese sounded like. Sometimes I would laugh along to hide the pain. When my mom asked if I ever experienced racism in school, I smiled at her and said no. I couldn’t stand to hurt her any more. I also knew that just like she couldn’t do anything to save her marriage, she couldn’t do anything to stop racist bullies.\n",
      "\n",
      "When I was 12, my mom and I moved back to Texas. Shortly after, she separated with my father, but she was no longer the same person from before. We rarely had a positive interaction. She never told me she loved me anymore. She began telling me almost everyday that she wished she never gave birth to me. She began denying that I was her child, saying that I probably came from someone else and that I was her burden to take care of. She said that all she wanted was for me to grow up and move out so she could be free. From a preteen throughout my teenage years, I never had the emotional support of my parents. I know it’s hard to go through a divorce, but I wish my mom would have been strong for me. Even now, I still feel the emotional void of my parents. \n",
      "\n",
      "I’ve learned to live without the emotional support of my parents. When it comes to my personal life, I either trust people too soon or I never trust them at all. I’m blessed with a few good friends who are always there for me. I’m still discovering each day how I can heal. I moved to New York because I thought that I could have a new start here. When people tell me I should be brave and come out to my parents, they don’t realize it’s not really an option. I speak to my parents once or twice a year. Why would I risk having those few precious interactions go wrong?\n",
      "\n",
      "Even after all of this, I love my parents very much. I know they love me back, even if they don’t say it. As I’ve grown older, I’ve realized that relationships can be complicated, infidelity happens, and marriages fail. This story was told through my eyes, but only they know what happened behind closed doors. I don’t condone what my father did, but I have forgiven him and don’t hold it against him. I also know that my parents moved to the West because they thought we would have a better life here, and I never take that for granted. \n",
      "\n",
      "Everyday I wake up, and I feel so thankful. I’m thankful to live in a city where I can express my sexuality without fearing my right to live. I’m thankful to live in an age when condoms are accessible and HIV-prevention programs are becoming increasingly prevalent. I’m thankful for the supportive people I have in my life right now that I never thought I would ever have. \n",
      "\n",
      "I’m thankful for GAPIMNY for being so receptive to this project. They’ve been nothing but welcoming and supportive since I met them two years ago. \n",
      "\n",
      "This was a little piece of my story that I wanted to share with the queer and transgender API community. I know that being a double minority can be an isolating experience. In a social setting, it can be hard to open up about personal issues. I wanted to create a space where we can let our walls down and share each other’s experiences. If my story reaches even one person out there and makes them feel less alone, then I don’t regret telling this story.\n",
      "\n",
      "I invite you all to share your stories as well. As queer and transgender API’s, our stories are largely invisible to mainstream media, online content, and even our personal conversations. We all have so many stories to share that are unique to us as individuals but still relatable to the entire community. \n",
      "\n",
      "When it comes to me and my family, it’s a work in progress. I’d like to one day find love and invite my family to my wedding, but I don’t know if that’s possible. \n",
      "\n",
      "When it comes to me and myself, it’s also a work in progress. I work each day to make sure I love myself. For a long time, I tried to love myself by changing the outside, but I never got the results I wanted on the inside. I see this happen often in the queer API and general gay community, most likely due to issues we are afraid to address. My hope is that The Gaysian Diaries will allow us to share and discover these parts of ourselves and help us in our process of self-love. We should all be truly proud of who we are and all that we have overcome.\n",
      "\n",
      "Charles Lin\n"
     ]
    }
   ],
   "source": [
    "print(ws.gd_get_blog_text(gd_1_url))"
   ]
  },
  {
   "cell_type": "code",
   "execution_count": 18,
   "metadata": {
    "collapsed": true
   },
   "outputs": [
    {
     "name": "stdout",
     "output_type": "stream",
     "text": [
      "Eight years ago, I lived in Flushing and had recently learned the ways of Korean drumming. One day, I was recruited as a drummer to go to Washington, DC to march and raise awareness about immigration legislation. We left New York City at around 6 am and got back in the evening.\n",
      "\n",
      "I have a habit of making stupid mistakes that get me into a bit of trouble all the time. When I’ve been tired, hungry, cold, or thirsty, I’ve been even prone to unintentionally cause myself harm. That evening, I was tired as I was walking home alone after all the activities with the contingent. There were around 5 Black or Brown kids hanging around that I had to pass by on my way home. I took a glance at them but avoided eye contact.\n",
      "\n",
      "What you should know at this point is that I’m also trans and at that time I had a fraction of the confidence I have now. There was also no man in my life that had ever thought to teach me how to physically conduct myself.\n",
      "\n",
      "Maybe it was because these kids also needed to assert themselves physically, or that I am always in disbelief when I’m chosen, but when an arm came out in front of me to block my path and I heard a demand for my phone, I resisted. One of these kids punched me in my face hard enough to break my glasses. Then they lifted me off my feet. I was wiggling to get free of their grasp before they dropped me. I heard something like “it’s a girl” as they ran away in a panic.\n",
      "\n",
      "I didn’t go to the police from a knee-jerk reaction for safety.  A friend nagged me to go to the police precinct until I did. A detective took down my statement and gave me a card in case I needed any follow up. I also avoided the scene of the crime for a time out of fear. I didn’t feel like the cops provided me any resolution. Occasionally I would get a sinus headache that I could relieve myself from if I put pressure on the left side of the bridge of my nose.\n",
      "\n",
      "Today, I’m living through a pandemic disproportionately impacting Black and Brown folks. Black Lives Matter protesters are demanding we defund the police after the Obama-era police reform failed to stop the death of George Floyd. The list of names of Black trans women who have died continue to get longer and longer at a speed that disturbs me deeply, while I’m still trying to make sense of the senseless death of Layleen Polanco in New York City’s prison system from a year ago. I badly want this crisis to stop and I want to be able to advocate for necessary changes. I’ve read up on the argument to defund the police and learned how much the demand also requires that we collectively build what a real safe society looks like. I attended a Zoom session where they asked us individually to think about a specific time we needed community safety, whether or not the police provided it, and how we would re-imagine what that would look like without the police.\n",
      "\n",
      "This prompt made me think of that incident from eight years, and how much the incident is still unjustly unresolved.\n",
      "\n",
      "If we could live beyond the constraints of reality and time travel, I would go back to the time of the mugging with more strength, courage, and wit. Most of my life, I’ve come off very non-threatening, so much so that people think they can take advantage of me until I lash out. I think I’ve developed some ability to set boundaries to avoid an outright lashing out. But even if I could somehow find and confront my muggers today, I’m not sure I could truly resolve all the problematic gendered questions that came up for me in that incident.\n",
      "\n",
      "In a just world, we would respond to this incident among many as a call to change society so men would be less violent. When men don’t have to prove their masculinity with physical dominance or conditioned to fear being perceived as weak, we can also slowly stop the cycle of physical violence in society. When there’s less harm, then there’s less need for protection. And the police rarely successfully provide protection for people because these situations can escalate anywhere and they can’t be everywhere. It would also eliminate the need for us to physically (and violently) remove members of our society to stop the violence by putting them in prisons. It would also eliminate making judgments of whether or not any person is deserving to be part of society, as if they could not change to become better.\n",
      "\n",
      "I believe that we all have to participate to create this better world. I’m willing to be part of the solution. Wouldn’t you?\n",
      "\n",
      "Ryan\n"
     ]
    }
   ],
   "source": [
    "print(ws.gd_get_blog_text(gd_34_url))"
   ]
  },
  {
   "cell_type": "code",
   "execution_count": 22,
   "metadata": {},
   "outputs": [],
   "source": [
    "gd_blog_dicts = ws.gd_get_blog_dicts(gd_home_page)"
   ]
  },
  {
   "cell_type": "code",
   "execution_count": 33,
   "metadata": {
    "collapsed": true
   },
   "outputs": [
    {
     "data": {
      "text/plain": [
       "{'title': 'Diary Entry #2',\n",
       " 'date': 'April 1st, 2016',\n",
       " 'text': 'Dear Diary,\\n\\nTen years ago, I took one step out of the closet to my mother.\\n\\nI was 21, and I just graduated from college. I was out, but only to my friends. My family—including my mother, father, and sister—and a few of my parents’ friends decided to take me out to dinner at a Chinese restaurant in Edison, New Jersey.\\xa0\\n\\nI remember the night well. My mother’s friend, Carol (name changed), sat next to me at one of those large, round tables with the rotating tray in the center. I was exhausted after a long graduation ceremony, and I just wanted to get through dinner so I could go home and sleep. To my chagrin, Carol asked me several times during dinner why I hadn’t found a girlfriend yet. Usually, I would just laugh and redirect the conversation, but I had no energy, so I just bluntly and loudly said “I’m just not interested.” \\n\\nMy mother, noticing the change, quickly changed the subject.\\n\\nI often wonder what went through my mother’s head when her friends brought up my lack of girlfriends. She knew that I had one in eighth grade (we only kissed once on a school band field trip) and that I had lots of good friends who were girls. She also knew that I had a soft spot for My Little Ponies and spent a little extra time looking at the cartoon bodies of Cyclops, Wolverine, and Gambit. \\n\\nAfter the dinner, my mother asked me if I’d ride with her on the way home. I said yes. We got in the car, pulled out of the restaurant, and got on Rt. 287. \\n\\nAs she approached 70 miles per hour, she turned to me and asked in English, “Are you gay?”\\n\\nI paused. I didn’t want to cause a crash, especially since she was traveling unusually fast down the highway.\\n\\nI looked over, and in my most quiet voice said, “Maybe.” \\n\\nShe let out a sigh. Then, she paused. After about ten seconds, she said:\\n\\n“Ok, I love you. But, I just want to say that… a girl is just… better.”\\n\\nI don’t remember how I responded. All I remember is that I didn’t want her to crash. She caught me by surprise, and in my panic, I shut down the conversation with a quick “Okay!”\\n\\nFor the next couple of years, my mother would reach out this way, and I would just shut the conversation down.\\n\\nAfter graduating college, I moved to New York City. I became more comfortable with my queer Asian identity and became more visible through the work I did with the Gay Asian Pacific Islander Men of New York (GAPIMNY). Despite this growth, I never thought I’d bring my parents along during this journey of self-discovery.\\n\\n\\n\\nI only rarely visited home, even though it was only 2.5 hours away. The times that I did, my mother would always try to find a way to understand my queer identity. She would stumble and make mistakes. But she tried. Each time, I would shut the conversation down.\\n\\nA few years ago, when I was in my mid to late-20s, my mother shared with me over breakfast that she’s been having nightmares. I asked her to describe them to me. She looked at me and said in Cantonese, “No, it’s nothing.” I pressed her some more. \\n\\nShe stumbled with her words. Then, she composed herself, looked at me, and said, “I dreamed that you have AIDS.”\\n\\nI remember the look in her eyes. Helplessness. Embarrassment. \\n\\nWhen I was younger, my mother visited New York City often to visit Chinatown and visit family friends. This visits took place during the height of the AIDS crisis. She knew about the countless gay men who lost their lives to the epidemic and the severe lack of response to it. She had almost no idea of what my personal life was like or how activism at the time changed the landscape for people like me. Her nightmares were a symptom of not knowing and of disconnection to me.\\n\\nThat moment, in many ways, was a turning point for me.\\n\\nI thought about the courage it must have taken for her to try to start conversations she had no idea how to navigate. I realized that the wall I put between her and me was for my protection, not hers. I dealt with so much self-hate and isolation that I closed myself emotionally to my family. I look back now and recognize that it was my fear of rejection and failure.\\n\\nShe kept trying though. She kept making herself emotionally vulnerable to me and I kept rebuffing her. This led to a massive gulf in understanding.\\n\\nHearing her openly share her fear of my death opened a door in that wall that I put between us. Now, in my 30s, that door has become bigger and bigger. \\n\\nI wonder now how much anxiety I caused her. I wonder how much she expressed her worries to my father and sister. I wonder how different our relationship would be had I started to open up earlier–how many of my relationships at the time would also have been more open and honest.\\n\\nLast year, my family accompanied me to the National Queer Asian Pacific Islander Alliance (NQAPIA) banquet where I was receiving an award. That was the first time my entire family saw me in my queer community. That was the first time they saw me as my whole self with the people I love.\\n\\nAfter the banquet, my mother looked at me, smiled, and said, “Are you happy?”\\n\\nI said “yes.” I asked her the same question, and she said “I’m happy that you’re happy.”\\n\\nThen, we talked about it some more.\\n\\nTo find out more about Dennis Chin’s story, view his video narrative on The Asian Pride Project.'}"
      ]
     },
     "execution_count": 33,
     "metadata": {},
     "output_type": "execute_result"
    }
   ],
   "source": [
    "gd_blog_dicts[-2]"
   ]
  },
  {
   "cell_type": "code",
   "execution_count": 41,
   "metadata": {},
   "outputs": [
    {
     "data": {
      "text/plain": [
       "<module 'web_scraping' from './src/web_scraping.py'>"
      ]
     },
     "execution_count": 41,
     "metadata": {},
     "output_type": "execute_result"
    }
   ],
   "source": [
    "reload(ws)"
   ]
  },
  {
   "cell_type": "code",
   "execution_count": 34,
   "metadata": {},
   "outputs": [],
   "source": [
    "with open('pickles/gd_blog_dicts.pickle', 'wb') as to_write:\n",
    "    pickle.dump(gd_blog_dicts, to_write)"
   ]
  },
  {
   "cell_type": "code",
   "execution_count": 5,
   "metadata": {},
   "outputs": [],
   "source": [
    "g3s_post_directory_page = 'https://gaysianthirdspace.tumblr.com/tags'\n",
    "g3s_soup = ws.create_soup(g3s_post_directory_page)"
   ]
  },
  {
   "cell_type": "code",
   "execution_count": 6,
   "metadata": {
    "scrolled": true
   },
   "outputs": [],
   "source": [
    "# g3s_soup.find('div', class_='body-text').find_all('a')[-1].get('href')"
   ]
  },
  {
   "cell_type": "code",
   "execution_count": 7,
   "metadata": {},
   "outputs": [
    {
     "data": {
      "text/plain": [
       "['http://gaysianthirdspace.tumblr.com/tagged/bodyimage',\n",
       " 'http://gaysianthirdspace.tumblr.com/tagged/career',\n",
       " 'http://gaysianthirdspace.tumblr.com/tagged/comingout',\n",
       " 'http://gaysianthirdspace.tumblr.com/tagged/community',\n",
       " 'http://gaysianthirdspace.tumblr.com/tagged/dating',\n",
       " 'http://gaysianthirdspace.tumblr.com/tagged/family',\n",
       " 'http://gaysianthirdspace.tumblr.com/tagged/followerfriday',\n",
       " 'http://gaysianthirdspace.tumblr.com/tagged/friendship',\n",
       " 'http://gaysianthirdspace.tumblr.com/tagged/heritage',\n",
       " 'http://gaysianthirdspace.tumblr.com/tagged/identity',\n",
       " 'http://gaysianthirdspace.tumblr.com/tagged/q&a',\n",
       " 'http://gaysianthirdspace.tumblr.com/tagged/relationships',\n",
       " 'http://gaysianthirdspace.tumblr.com/tagged/romance',\n",
       " 'http://gaysianthirdspace.tumblr.com/tagged/school']"
      ]
     },
     "execution_count": 7,
     "metadata": {},
     "output_type": "execute_result"
    }
   ],
   "source": [
    "ws.g3s_get_tag_page_url(g3s_post_directory_page)"
   ]
  },
  {
   "cell_type": "code",
   "execution_count": null,
   "metadata": {},
   "outputs": [],
   "source": []
  }
 ],
 "metadata": {
  "kernelspec": {
   "display_name": "Python [conda env:metis] *",
   "language": "python",
   "name": "conda-env-metis-py"
  },
  "language_info": {
   "codemirror_mode": {
    "name": "ipython",
    "version": 3
   },
   "file_extension": ".py",
   "mimetype": "text/x-python",
   "name": "python",
   "nbconvert_exporter": "python",
   "pygments_lexer": "ipython3",
   "version": "3.8.3"
  }
 },
 "nbformat": 4,
 "nbformat_minor": 4
}
